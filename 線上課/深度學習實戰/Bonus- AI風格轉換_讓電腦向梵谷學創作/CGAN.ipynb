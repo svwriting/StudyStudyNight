{
 "cells": [
  {
   "cell_type": "code",
   "execution_count": 1,
   "metadata": {},
   "outputs": [
    {
     "name": "stderr",
     "output_type": "stream",
     "text": [
      "Using TensorFlow backend.\n"
     ]
    }
   ],
   "source": [
    "from keras.layers import Input\n",
    "from keras.models import Model, Sequential\n",
    "from keras.layers.core import Reshape, Dense, Dropout, Flatten\n",
    "from keras.layers import Embedding, multiply, BatchNormalization\n",
    "from keras.datasets import mnist\n",
    "import numpy as np\n",
    "%matplotlib inline\n",
    "# 我們會使用到一些內建的資料庫, MAC需要加入以下兩行, 才不會把對方的ssl憑證視為無效\n",
    "import ssl\n",
    "ssl._create_default_https_context = ssl._create_unverified_context"
   ]
  },
  {
   "cell_type": "code",
   "execution_count": 2,
   "metadata": {},
   "outputs": [],
   "source": [
    "img_shape = (28, 28)\n",
    "random_dim = 100"
   ]
  },
  {
   "cell_type": "code",
   "execution_count": 3,
   "metadata": {},
   "outputs": [],
   "source": [
    "# 回傳值: ((訓練特徵, 訓練目標), (測試特徵, 測試目標))\n",
    "(x_train, y_train),(x_test, y_test) = mnist.load_data()"
   ]
  },
  {
   "cell_type": "code",
   "execution_count": 4,
   "metadata": {},
   "outputs": [
    {
     "data": {
      "text/plain": [
       "(60000, 28, 28)"
      ]
     },
     "execution_count": 4,
     "metadata": {},
     "output_type": "execute_result"
    }
   ],
   "source": [
    "x_train.shape"
   ]
  },
  {
   "cell_type": "code",
   "execution_count": 5,
   "metadata": {},
   "outputs": [],
   "source": [
    "from keras.utils import np_utils\n",
    "# reshape讓他從 32 * 32變成 784 * 1的一維陣列\n",
    "# 讓我們標準化到-1~1區間\n",
    "x_train_shaped = (x_train.astype(\"float32\") - 127.5)/127.5\n",
    "x_test_shaped = (x_test.astype(\"float32\") - 127.5)/127.5\n",
    "y_train = y_train.reshape(-1, 1)"
   ]
  },
  {
   "cell_type": "code",
   "execution_count": 6,
   "metadata": {},
   "outputs": [
    {
     "name": "stdout",
     "output_type": "stream",
     "text": [
      "_________________________________________________________________\n",
      "Layer (type)                 Output Shape              Param #   \n",
      "=================================================================\n",
      "dense_1 (Dense)              (None, 256)               25856     \n",
      "_________________________________________________________________\n",
      "batch_normalization_1 (Batch (None, 256)               1024      \n",
      "_________________________________________________________________\n",
      "dense_2 (Dense)              (None, 512)               131584    \n",
      "_________________________________________________________________\n",
      "batch_normalization_2 (Batch (None, 512)               2048      \n",
      "_________________________________________________________________\n",
      "dense_3 (Dense)              (None, 784)               402192    \n",
      "_________________________________________________________________\n",
      "reshape_1 (Reshape)          (None, 28, 28)            0         \n",
      "=================================================================\n",
      "Total params: 562,704\n",
      "Trainable params: 561,168\n",
      "Non-trainable params: 1,536\n",
      "_________________________________________________________________\n",
      "__________________________________________________________________________________________________\n",
      "Layer (type)                    Output Shape         Param #     Connected to                     \n",
      "==================================================================================================\n",
      "input_2 (InputLayer)            (None, 1)            0                                            \n",
      "__________________________________________________________________________________________________\n",
      "embedding_1 (Embedding)         (None, 1, 100)       1000        input_2[0][0]                    \n",
      "__________________________________________________________________________________________________\n",
      "input_1 (InputLayer)            (None, 100)          0                                            \n",
      "__________________________________________________________________________________________________\n",
      "flatten_1 (Flatten)             (None, 100)          0           embedding_1[0][0]                \n",
      "__________________________________________________________________________________________________\n",
      "multiply_1 (Multiply)           (None, 100)          0           input_1[0][0]                    \n",
      "                                                                 flatten_1[0][0]                  \n",
      "__________________________________________________________________________________________________\n",
      "sequential_1 (Sequential)       (None, 28, 28)       562704      multiply_1[0][0]                 \n",
      "==================================================================================================\n",
      "Total params: 563,704\n",
      "Trainable params: 562,168\n",
      "Non-trainable params: 1,536\n",
      "__________________________________________________________________________________________________\n"
     ]
    }
   ],
   "source": [
    "generator = Sequential()\n",
    "generator.add(Dense(256, input_dim=random_dim, \n",
    "                    activation='relu', \n",
    "                    kernel_initializer=\"random_normal\"))\n",
    "generator.add(BatchNormalization())\n",
    "generator.add(Dense(512, activation='relu', \n",
    "                    kernel_initializer=\"random_normal\"))\n",
    "generator.add(BatchNormalization())\n",
    "generator.add(Dense(784, activation='tanh'))\n",
    "generator.add(Reshape(img_shape))\n",
    "generator.summary()\n",
    "\n",
    "noise = Input(shape=(random_dim,))\n",
    "label = Input(shape=(1,), dtype='int32')\n",
    "label_embedding = Flatten()(Embedding(input_dim = 10, output_dim = random_dim)(label))\n",
    "\n",
    "model_input = multiply([noise, label_embedding])\n",
    "img = generator(model_input)\n",
    "\n",
    "cgenerator = Model([noise, label], img)\n",
    "\n",
    "cgenerator.compile(loss='binary_crossentropy', optimizer=\"adam\")\n",
    "cgenerator.summary()\n"
   ]
  },
  {
   "cell_type": "code",
   "execution_count": 7,
   "metadata": {},
   "outputs": [
    {
     "name": "stdout",
     "output_type": "stream",
     "text": [
      "_________________________________________________________________\n",
      "Layer (type)                 Output Shape              Param #   \n",
      "=================================================================\n",
      "dense_4 (Dense)              (None, 512)               401920    \n",
      "_________________________________________________________________\n",
      "dropout_1 (Dropout)          (None, 512)               0         \n",
      "_________________________________________________________________\n",
      "dense_5 (Dense)              (None, 256)               131328    \n",
      "_________________________________________________________________\n",
      "dropout_2 (Dropout)          (None, 256)               0         \n",
      "_________________________________________________________________\n",
      "dense_6 (Dense)              (None, 128)               32896     \n",
      "_________________________________________________________________\n",
      "dropout_3 (Dropout)          (None, 128)               0         \n",
      "_________________________________________________________________\n",
      "dense_7 (Dense)              (None, 1)                 129       \n",
      "=================================================================\n",
      "Total params: 566,273\n",
      "Trainable params: 566,273\n",
      "Non-trainable params: 0\n",
      "_________________________________________________________________\n",
      "__________________________________________________________________________________________________\n",
      "Layer (type)                    Output Shape         Param #     Connected to                     \n",
      "==================================================================================================\n",
      "input_4 (InputLayer)            (None, 1)            0                                            \n",
      "__________________________________________________________________________________________________\n",
      "input_3 (InputLayer)            (None, 28, 28)       0                                            \n",
      "__________________________________________________________________________________________________\n",
      "embedding_2 (Embedding)         (None, 1, 784)       7840        input_4[0][0]                    \n",
      "__________________________________________________________________________________________________\n",
      "flatten_3 (Flatten)             (None, 784)          0           input_3[0][0]                    \n",
      "__________________________________________________________________________________________________\n",
      "flatten_2 (Flatten)             (None, 784)          0           embedding_2[0][0]                \n",
      "__________________________________________________________________________________________________\n",
      "multiply_2 (Multiply)           (None, 784)          0           flatten_3[0][0]                  \n",
      "                                                                 flatten_2[0][0]                  \n",
      "__________________________________________________________________________________________________\n",
      "sequential_2 (Sequential)       (None, 1)            566273      multiply_2[0][0]                 \n",
      "==================================================================================================\n",
      "Total params: 574,113\n",
      "Trainable params: 574,113\n",
      "Non-trainable params: 0\n",
      "__________________________________________________________________________________________________\n"
     ]
    }
   ],
   "source": [
    "discriminator = Sequential()\n",
    "discriminator.add(Dense(512, input_dim=784,\n",
    "                        activation='relu', \n",
    "                        kernel_initializer=\"random_normal\"))\n",
    "discriminator.add(Dropout(0.25))\n",
    "discriminator.add(Dense(256, activation='relu',\n",
    "                        kernel_initializer=\"random_normal\"))\n",
    "discriminator.add(Dropout(0.25))\n",
    "discriminator.add(Dense(128, activation='relu',\n",
    "                        kernel_initializer=\"random_normal\"))\n",
    "discriminator.add(Dropout(0.25))\n",
    "discriminator.add(Dense(1, activation='sigmoid'))\n",
    "discriminator.summary()\n",
    "\n",
    "img = Input(shape=img_shape)\n",
    "label = Input(shape=(1,), dtype='int32')\n",
    "label_embedding = Flatten()(Embedding(10, 784)(label))\n",
    "flat_img = Flatten()(img)\n",
    "model_input = multiply([flat_img, label_embedding])\n",
    "validity = discriminator(model_input)\n",
    "cdiscriminator = Model([img, label], validity)\n",
    "cdiscriminator.compile(loss='binary_crossentropy', optimizer=\"adam\")\n",
    "cdiscriminator.summary()"
   ]
  },
  {
   "cell_type": "code",
   "execution_count": 8,
   "metadata": {},
   "outputs": [
    {
     "name": "stdout",
     "output_type": "stream",
     "text": [
      "__________________________________________________________________________________________________\n",
      "Layer (type)                    Output Shape         Param #     Connected to                     \n",
      "==================================================================================================\n",
      "input_5 (InputLayer)            (None, 100)          0                                            \n",
      "__________________________________________________________________________________________________\n",
      "input_6 (InputLayer)            (None, 1)            0                                            \n",
      "__________________________________________________________________________________________________\n",
      "model_1 (Model)                 (None, 28, 28)       563704      input_5[0][0]                    \n",
      "                                                                 input_6[0][0]                    \n",
      "__________________________________________________________________________________________________\n",
      "model_2 (Model)                 (None, 1)            574113      model_1[1][0]                    \n",
      "                                                                 input_6[0][0]                    \n",
      "==================================================================================================\n",
      "Total params: 1,137,817\n",
      "Trainable params: 562,168\n",
      "Non-trainable params: 575,649\n",
      "__________________________________________________________________________________________________\n"
     ]
    }
   ],
   "source": [
    "cdiscriminator.trainable = False\n",
    "cgan_input = Input(shape=(random_dim,))\n",
    "cgan_label = Input(shape=(1, ))\n",
    "x = cgenerator([cgan_input, cgan_label])\n",
    "cgan_output = cdiscriminator([x, cgan_label])\n",
    "cgan = Model(inputs=[cgan_input, cgan_label], outputs=cgan_output)\n",
    "cgan.compile(loss='binary_crossentropy', optimizer=\"adam\")\n",
    "cgan.summary()"
   ]
  },
  {
   "cell_type": "code",
   "execution_count": 9,
   "metadata": {},
   "outputs": [
    {
     "name": "stdout",
     "output_type": "stream",
     "text": [
      "--------------- epoch 0 ---------------\n",
      "Discriminator loss: 0.04729007929563522\n",
      "Generator loss: 0.585347\n",
      "--------------- epoch 1 ---------------\n",
      "Discriminator loss: 0.0043478356674313545\n",
      "Generator loss: 2.9857557\n",
      "--------------- epoch 2 ---------------\n",
      "Discriminator loss: 0.025714386254549026\n",
      "Generator loss: 4.988716\n",
      "--------------- epoch 3 ---------------\n",
      "Discriminator loss: 0.02358744852244854\n",
      "Generator loss: 0.3187806\n",
      "--------------- epoch 4 ---------------\n",
      "Discriminator loss: 0.018145833164453506\n",
      "Generator loss: 6.3042507\n",
      "--------------- epoch 5 ---------------\n",
      "Discriminator loss: 0.018201807513833046\n",
      "Generator loss: 1.0470262\n",
      "--------------- epoch 6 ---------------\n",
      "Discriminator loss: 0.005387197248637676\n",
      "Generator loss: 1.4840078\n",
      "--------------- epoch 7 ---------------\n",
      "Discriminator loss: 0.07645069062709808\n",
      "Generator loss: 4.592291\n",
      "--------------- epoch 8 ---------------\n",
      "Discriminator loss: 0.057617343962192535\n",
      "Generator loss: 2.772187\n",
      "--------------- epoch 9 ---------------\n",
      "Discriminator loss: 0.09098358452320099\n",
      "Generator loss: 4.461589\n",
      "--------------- epoch 10 ---------------\n",
      "Discriminator loss: 0.023768100887537003\n",
      "Generator loss: 1.1586537\n",
      "--------------- epoch 11 ---------------\n",
      "Discriminator loss: 0.17613258957862854\n",
      "Generator loss: 3.4783201\n",
      "--------------- epoch 12 ---------------\n",
      "Discriminator loss: 0.17899905145168304\n",
      "Generator loss: 3.8015943\n",
      "--------------- epoch 13 ---------------\n",
      "Discriminator loss: 0.188910573720932\n",
      "Generator loss: 2.9199183\n",
      "--------------- epoch 14 ---------------\n",
      "Discriminator loss: 0.264242947101593\n",
      "Generator loss: 2.6949744\n",
      "--------------- epoch 15 ---------------\n",
      "Discriminator loss: 0.30501168966293335\n",
      "Generator loss: 2.38774\n",
      "--------------- epoch 16 ---------------\n",
      "Discriminator loss: 0.36551135778427124\n",
      "Generator loss: 2.0644722\n",
      "--------------- epoch 17 ---------------\n",
      "Discriminator loss: 0.3978063464164734\n",
      "Generator loss: 1.8392444\n",
      "--------------- epoch 18 ---------------\n",
      "Discriminator loss: 0.3554077446460724\n",
      "Generator loss: 1.722633\n",
      "--------------- epoch 19 ---------------\n",
      "Discriminator loss: 0.4152601361274719\n",
      "Generator loss: 1.747535\n",
      "--------------- epoch 20 ---------------\n",
      "Discriminator loss: 0.4359627962112427\n",
      "Generator loss: 1.6004862\n",
      "--------------- epoch 21 ---------------\n",
      "Discriminator loss: 0.44132399559020996\n",
      "Generator loss: 1.5989777\n",
      "--------------- epoch 22 ---------------\n",
      "Discriminator loss: 0.44544947147369385\n",
      "Generator loss: 1.5231903\n",
      "--------------- epoch 23 ---------------\n",
      "Discriminator loss: 0.47723388671875\n",
      "Generator loss: 1.4970984\n",
      "--------------- epoch 24 ---------------\n",
      "Discriminator loss: 0.4128456115722656\n",
      "Generator loss: 1.4679066\n",
      "--------------- epoch 25 ---------------\n",
      "Discriminator loss: 0.42317819595336914\n",
      "Generator loss: 1.5238104\n",
      "--------------- epoch 26 ---------------\n",
      "Discriminator loss: 0.43596509099006653\n",
      "Generator loss: 1.3899999\n",
      "--------------- epoch 27 ---------------\n",
      "Discriminator loss: 0.4778284728527069\n",
      "Generator loss: 1.2915088\n",
      "--------------- epoch 28 ---------------\n",
      "Discriminator loss: 0.4493052363395691\n",
      "Generator loss: 1.4206901\n",
      "--------------- epoch 29 ---------------\n",
      "Discriminator loss: 0.46791478991508484\n",
      "Generator loss: 1.4711826\n"
     ]
    }
   ],
   "source": [
    "batch_size = 200\n",
    "epoch_count = 30\n",
    "d_loss_list = []\n",
    "g_loss_list = []\n",
    "for epoch in range(0, epoch_count):\n",
    "    for batch_count in range(0, 300):\n",
    "        idx = np.random.randint(0, x_train.shape[0], batch_size)\n",
    "        imgs = x_train_shaped[idx]\n",
    "        labels = y_train[idx]\n",
    "        \n",
    "        valid = np.ones((batch_size, 1))\n",
    "        fake = np.zeros((batch_size, 1))\n",
    "        # 步驟0:讓創作家製造出fake image\n",
    "        noise = np.random.normal(0, 1, (batch_size, random_dim))\n",
    "        gen_imgs = cgenerator.predict([noise, labels])\n",
    "\n",
    "        cdiscriminator.trainable = True\n",
    "        # 步驟1:讓鑑賞家鑑賞對的image\n",
    "        d_loss_real = cdiscriminator.train_on_batch([imgs, labels], valid)\n",
    "        # 步驟2:讓鑑賞家鑑賞錯的image\n",
    "        d_loss_fake = cdiscriminator.train_on_batch([gen_imgs, labels], fake)\n",
    "        d_loss = (d_loss_real + d_loss_fake) / 2\n",
    "\n",
    "        cdiscriminator.trainable = False\n",
    "        noise = np.random.normal(0, 1, (batch_size, random_dim))\n",
    "        # 步驟3:訓練創作家的創作能力\n",
    "        g_loss = cgan.train_on_batch([noise, labels], valid)\n",
    "    dash = \"-\" * 15\n",
    "    print(dash, \"epoch\", epoch, dash)\n",
    "    print(\"Discriminator loss:\", d_loss)\n",
    "    print(\"Generator loss:\", g_loss)\n",
    "    d_loss_list.append(d_loss)\n",
    "    g_loss_list.append(g_loss)\n"
   ]
  },
  {
   "cell_type": "code",
   "execution_count": 10,
   "metadata": {},
   "outputs": [
    {
     "data": {
      "image/png": "[encoded data removed]",
      "text/plain": [
       "<matplotlib.figure.Figure at 0x1048ee278>"
      ]
     },
     "metadata": {},
     "output_type": "display_data"
    }
   ],
   "source": [
    "import matplotlib.pyplot as plt\n",
    "%matplotlib inline\n",
    "noise = np.random.normal(0, 1, (10, random_dim))\n",
    "sampled_labels = np.arange(0, 10).reshape(-1, 1)\n",
    "\n",
    "gen_imgs = cgenerator.predict([noise, sampled_labels])\n",
    "\n",
    "# Rescale images 0 - 1\n",
    "gen_imgs = 0.5 * gen_imgs + 0.5\n",
    "gen_imgs = gen_imgs.reshape(10, 28, 28)\n",
    "plt.figure(figsize = (14, 14))\n",
    "for i in range(0, 10):\n",
    "    plt.subplot(1, 10, i + 1)\n",
    "    plt.axis(\"off\")\n",
    "    plt.imshow(gen_imgs[i], cmap='gray')\n"
   ]
  },
  {
   "cell_type": "code",
   "execution_count": null,
   "metadata": {},
   "outputs": [],
   "source": []
  }
 ],
 "metadata": {
  "kernelspec": {
   "display_name": "py36default",
   "language": "python",
   "name": "py36default"
  },
  "language_info": {
   "codemirror_mode": {
    "name": "ipython",
    "version": 3
   },
   "file_extension": ".py",
   "mimetype": "text/x-python",
   "name": "python",
   "nbconvert_exporter": "python",
   "pygments_lexer": "ipython3",
   "version": "3.6.0"
  }
 },
 "nbformat": 4,
 "nbformat_minor": 2
}

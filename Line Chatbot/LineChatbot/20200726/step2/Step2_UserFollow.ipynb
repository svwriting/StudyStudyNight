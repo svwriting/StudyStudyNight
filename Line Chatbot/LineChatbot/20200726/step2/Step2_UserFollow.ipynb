{
 "cells": [
  {
   "cell_type": "code",
   "execution_count": 6,
   "metadata": {},
   "outputs": [
    {
     "data": {
      "text/plain": [
       "'\\n\\n\\n當用戶關注Line@後，Line會發一個FollowEvent，\\n\\n我們接受到之後，取得用戶個資，對用戶綁定自定義菜單，會回傳四個消息給用戶\\n\\n\\n'"
      ]
     },
     "execution_count": 6,
     "metadata": {},
     "output_type": "execute_result"
    }
   ],
   "source": [
    "\"\"\"\n",
    "\n",
    "\n",
    "當用戶關注Line@後，Line會發一個FollowEvent，\n",
    "\n",
    "我們接受到之後，取得用戶個資，對用戶綁定自定義菜單，會回傳四個消息給用戶\n",
    "\n",
    "\n",
    "\"\"\""
   ]
  },
  {
   "cell_type": "code",
   "execution_count": 7,
   "metadata": {},
   "outputs": [],
   "source": [
    "\"\"\"\n",
    "\n",
    "啟用伺服器基本樣板\n",
    "\n",
    "\"\"\"\n",
    "\n",
    "# part1 - 引用套件\n",
    "\n",
    "# 引用Web Server套件\n",
    "from flask import Flask, request, abort\n",
    "\n",
    "# 從linebot 套件包裡引用 LineBotApi 與 WebhookHandler 類別\n",
    "from linebot import (\n",
    "    LineBotApi, WebhookHandler\n",
    ")\n",
    "\n",
    "# 引用無效簽章錯誤\n",
    "from linebot.exceptions import (\n",
    "    InvalidSignatureError\n",
    ")\n",
    "\n",
    "# 載入json處理套件\n",
    "import json\n",
    "\n",
    "# 載入基礎設定檔\n",
    "secretFileContentJson=json.load(open(\"../line_secret_key\",'r',encoding=\"utf-8\"))\n",
    "server_url=secretFileContentJson.get(\"server_url\")\n",
    "\n",
    "\n",
    "\n",
    "# Part2 伺服器方法準備\n",
    "# 設定Server啟用細節\n",
    "# 準備一個 Flask Web Application\n",
    "app = Flask(__name__,static_url_path = \"/images\" , static_folder = \"../images/\")\n",
    "\n",
    "# 生成實體物件\n",
    "\n",
    "# 就是收發小妹啦，他專門跟line溝通\n",
    "# LineBotApi( channel_access_token )\n",
    "line_bot_api = LineBotApi(secretFileContentJson.get(\"channel_access_token\"))\n",
    "\n",
    "# 就是總機啦，專門收信\n",
    "# WebHandler( channel secret )\n",
    "handler = WebhookHandler(secretFileContentJson.get(\"secret_key\"))\n",
    "\n",
    "# 啟動server對外接口，使Line能丟消息進來\n",
    "# 這就是 Line發消息的入口\n",
    "@app.route(\"/\", methods=['POST'])\n",
    "def callback():\n",
    "    \n",
    "    # handler 取出信件的內容\n",
    "    # get X-Line-Signature header value\n",
    "    signature = request.headers['X-Line-Signature']\n",
    "    # get request body as text\n",
    "    body = request.get_data(as_text=True)\n",
    "    \n",
    "    \n",
    "    app.logger.info(\"Request body: \" + body)\n",
    "\n",
    "    # handle webhook body\n",
    "    try:\n",
    "        # 把信件表頭跟內容，交給handler做處理\n",
    "        # 驗證\n",
    "        # 後續轉發\n",
    "        # handle( 信件內容, 信件驗證碼)\n",
    "        handler.handle(body, signature)\n",
    "        \n",
    "        # 若信件無效\n",
    "    except InvalidSignatureError:\n",
    "        \n",
    "        # 忽略不看\n",
    "        abort(400)\n",
    "\n",
    "    return 'OK'\n"
   ]
  },
  {
   "cell_type": "code",
   "execution_count": 8,
   "metadata": {},
   "outputs": [],
   "source": [
    "'''\n",
    "\n",
    "製作文字與圖片的教學訊息\n",
    "\n",
    "'''\n",
    "# 將消息模型，文字收取消息與文字寄發消息 引入\n",
    "from linebot.models import (\n",
    "    MessageEvent, TextMessage, TextSendMessage, ImageSendMessage\n",
    ")\n",
    "\n",
    "# 消息清單\n",
    "reply_message_list = [\n",
    "\n",
    "    # 寄給用戶的文字消息\n",
    "    TextSendMessage(text=\"關注區塊鏈技術，掌握市場脈動。\"),\n",
    "    \n",
    "    TextSendMessage(text=\"人類所以充滿驚奇，在於人體那一精密又不可探究的系統。佈滿神經元的大腦，而後延展遍歷人體。\\n\\n區塊鏈就好比是人體那驚奇的神經系統，社會是我們的人身，在全身佈滿了神經後，造就了不可思量的奧妙生命。\\n\\n點選菜單，了解區塊鏈前世今生，以文字輸入 more，得到更多資訊。\"),\n",
    "    \n",
    "    # 寄給用戶的圖片消息\n",
    "    # original_content_url : 原始圖片\n",
    "    # preview_image_url : 預覽圖片\n",
    "    ImageSendMessage(\n",
    "        original_content_url='https://%s/images/003.jpeg' %server_url ,\n",
    "        preview_image_url='https://%s/images/001.jpg' %server_url\n",
    "    ),\n",
    "    \n",
    "    ImageSendMessage(original_content_url='https://%s/images/004.png' %server_url,\n",
    "    preview_image_url='https://%s/images/005.jpg' %server_url)\n",
    "]"
   ]
  },
  {
   "cell_type": "code",
   "execution_count": 9,
   "metadata": {},
   "outputs": [],
   "source": [
    "'''\n",
    "\n",
    "撰寫用戶關注時，我們要處理的商業邏輯\n",
    "\n",
    "1. 取得用戶個資，並存回伺服器\n",
    "2. 把先前製作好的自定義菜單，與用戶做綁定\n",
    "3. 回應用戶，歡迎用的文字消息與圖片消息\n",
    "\n",
    "'''\n",
    "\n",
    "\n",
    "# 載入Follow事件\n",
    "from linebot.models.events import (\n",
    "    FollowEvent, UnfollowEvent\n",
    ")\n",
    "\n",
    "# 載入requests套件\n",
    "import requests\n",
    "\n",
    "# 若用戶封鎖我們，則印出用戶的user_id\n",
    "@handler.add(UnfollowEvent)\n",
    "def demo_unfollow(event):\n",
    "    print(event.source.user_id)\n",
    "\n",
    "\n",
    "# 告知handler，如果收到FollowEvent，則做下面的方法處理\n",
    "# handler.add()\n",
    "# 告知handler 收到 xx Event就做下面的方法\n",
    "@handler.add(FollowEvent)\n",
    "def reply_text_and_get_user_profile(event):\n",
    "    \n",
    "    # 取出消息內User的資料\n",
    "    # 請line_bot_api 取出用戶個資\n",
    "    # get_profile(用戶的id)\n",
    "    # event.source.user_id\n",
    "    # 消息來源的用戶id\n",
    "    user_profile = line_bot_api.get_profile(event.source.user_id)\n",
    "        \n",
    "    # 將用戶資訊存在檔案內\n",
    "    # save file python\n",
    "    with open(\"../users.txt\", \"a\") as myfile:\n",
    "        myfile.write(json.dumps(vars(user_profile),sort_keys=True))\n",
    "        myfile.write('\\r\\n')\n",
    "        \n",
    "        \n",
    "    # 將菜單綁定在用戶身上\n",
    "    linkRichMenuId=secretFileContentJson.get(\"rich_menu_id\")\n",
    "    linkResult=line_bot_api.link_rich_menu_to_user(event.source.user_id, linkRichMenuId)\n",
    "    \n",
    "    # 回覆文字消息與圖片消息\n",
    "    # reply_message(event.reply_token, 剛剛做的消息素材)\n",
    "    # 回復用戶\n",
    "    line_bot_api.reply_message(\n",
    "        event.reply_token,\n",
    "        reply_message_list\n",
    "    )"
   ]
  },
  {
   "cell_type": "code",
   "execution_count": 10,
   "metadata": {},
   "outputs": [
    {
     "name": "stdout",
     "output_type": "stream",
     "text": [
      " * Serving Flask app \"__main__\" (lazy loading)\n",
      " * Environment: production\n",
      "   WARNING: This is a development server. Do not use it in a production deployment.\n",
      "   Use a production WSGI server instead.\n",
      " * Debug mode: off\n"
     ]
    },
    {
     "name": "stderr",
     "output_type": "stream",
     "text": [
      " * Running on http://0.0.0.0:5000/ (Press CTRL+C to quit)\n",
      "127.0.0.1 - - [26/Jul/2020 13:41:25] \"\u001b[37mPOST / HTTP/1.1\u001b[0m\" 200 -\n"
     ]
    },
    {
     "name": "stdout",
     "output_type": "stream",
     "text": [
      "U611ce9f7db42bb73be1bb68e63166bf9\n"
     ]
    },
    {
     "name": "stderr",
     "output_type": "stream",
     "text": [
      "127.0.0.1 - - [26/Jul/2020 13:41:25] \"\u001b[37mPOST / HTTP/1.1\u001b[0m\" 200 -\n"
     ]
    },
    {
     "name": "stdout",
     "output_type": "stream",
     "text": [
      "U27eaae6bcda9a8cbd34e9a149f35a635\n"
     ]
    },
    {
     "name": "stderr",
     "output_type": "stream",
     "text": [
      "127.0.0.1 - - [26/Jul/2020 13:41:27] \"\u001b[37mPOST / HTTP/1.1\u001b[0m\" 200 -\n",
      "127.0.0.1 - - [26/Jul/2020 13:41:27] \"\u001b[37mPOST / HTTP/1.1\u001b[0m\" 200 -\n"
     ]
    },
    {
     "name": "stdout",
     "output_type": "stream",
     "text": [
      "U7236a389b2891895f79b38045f663da8\n",
      "U804b6ed083f5344157383039d5acb135\n"
     ]
    },
    {
     "name": "stderr",
     "output_type": "stream",
     "text": [
      "127.0.0.1 - - [26/Jul/2020 13:41:27] \"\u001b[37mGET /images/001.jpg HTTP/1.1\u001b[0m\" 200 -\n",
      "127.0.0.1 - - [26/Jul/2020 13:41:27] \"\u001b[37mGET /images/005.jpg HTTP/1.1\u001b[0m\" 200 -\n",
      "127.0.0.1 - - [26/Jul/2020 13:41:29] \"\u001b[37mPOST / HTTP/1.1\u001b[0m\" 200 -\n",
      "127.0.0.1 - - [26/Jul/2020 13:41:29] \"\u001b[37mGET /images/001.jpg HTTP/1.1\u001b[0m\" 200 -\n",
      "127.0.0.1 - - [26/Jul/2020 13:41:30] \"\u001b[37mGET /images/005.jpg HTTP/1.1\u001b[0m\" 200 -\n",
      "127.0.0.1 - - [26/Jul/2020 13:41:30] \"\u001b[37mPOST / HTTP/1.1\u001b[0m\" 200 -\n"
     ]
    },
    {
     "name": "stdout",
     "output_type": "stream",
     "text": [
      "U745a36353d2503ad984a8aecd4421eeb\n"
     ]
    },
    {
     "name": "stderr",
     "output_type": "stream",
     "text": [
      "127.0.0.1 - - [26/Jul/2020 13:41:43] \"\u001b[37mGET /images/001.jpg HTTP/1.1\u001b[0m\" 200 -\n",
      "127.0.0.1 - - [26/Jul/2020 13:41:43] \"\u001b[37mGET /images/005.jpg HTTP/1.1\u001b[0m\" 200 -\n",
      "127.0.0.1 - - [26/Jul/2020 13:41:44] \"\u001b[37mGET /images/003.jpeg HTTP/1.1\u001b[0m\" 200 -\n",
      "127.0.0.1 - - [26/Jul/2020 13:41:45] \"\u001b[37mPOST / HTTP/1.1\u001b[0m\" 200 -\n"
     ]
    },
    {
     "name": "stdout",
     "output_type": "stream",
     "text": [
      "Uc8633a7555445f9eb5d54f52eaddbf65\n"
     ]
    },
    {
     "name": "stderr",
     "output_type": "stream",
     "text": [
      "127.0.0.1 - - [26/Jul/2020 13:41:46] \"\u001b[37mPOST / HTTP/1.1\u001b[0m\" 200 -\n",
      "127.0.0.1 - - [26/Jul/2020 13:41:46] \"\u001b[37mPOST / HTTP/1.1\u001b[0m\" 200 -\n"
     ]
    },
    {
     "name": "stdout",
     "output_type": "stream",
     "text": [
      "U54036f2cba9bac6af49b37e76b771a3d\n",
      "Ue2b4f847e2a5493b7c346a8f3ecee214\n"
     ]
    },
    {
     "name": "stderr",
     "output_type": "stream",
     "text": [
      "127.0.0.1 - - [26/Jul/2020 13:41:46] \"\u001b[37mGET /images/004.png HTTP/1.1\u001b[0m\" 200 -\n",
      "127.0.0.1 - - [26/Jul/2020 13:41:47] \"\u001b[37mPOST / HTTP/1.1\u001b[0m\" 200 -\n",
      "127.0.0.1 - - [26/Jul/2020 13:41:48] \"\u001b[37mPOST / HTTP/1.1\u001b[0m\" 200 -\n",
      "127.0.0.1 - - [26/Jul/2020 13:41:48] \"\u001b[37mGET /images/001.jpg HTTP/1.1\u001b[0m\" 200 -\n",
      "127.0.0.1 - - [26/Jul/2020 13:41:49] \"\u001b[37mGET /images/005.jpg HTTP/1.1\u001b[0m\" 200 -\n",
      "127.0.0.1 - - [26/Jul/2020 13:41:57] \"\u001b[37mPOST / HTTP/1.1\u001b[0m\" 200 -\n"
     ]
    },
    {
     "name": "stdout",
     "output_type": "stream",
     "text": [
      "Ufb7c8d7a32fd14952081f98ab1e917c1\n"
     ]
    },
    {
     "name": "stderr",
     "output_type": "stream",
     "text": [
      "127.0.0.1 - - [26/Jul/2020 13:42:01] \"\u001b[37mPOST / HTTP/1.1\u001b[0m\" 200 -\n",
      "127.0.0.1 - - [26/Jul/2020 13:43:07] \"\u001b[37mGET /images/001.jpg HTTP/1.1\u001b[0m\" 200 -\n",
      "127.0.0.1 - - [26/Jul/2020 13:43:07] \"\u001b[37mGET /images/005.jpg HTTP/1.1\u001b[0m\" 200 -\n",
      "127.0.0.1 - - [26/Jul/2020 13:43:09] \"\u001b[37mPOST / HTTP/1.1\u001b[0m\" 200 -\n"
     ]
    },
    {
     "name": "stdout",
     "output_type": "stream",
     "text": [
      "Ufb7c8d7a32fd14952081f98ab1e917c1\n"
     ]
    },
    {
     "name": "stderr",
     "output_type": "stream",
     "text": [
      "127.0.0.1 - - [26/Jul/2020 13:43:12] \"\u001b[37mPOST / HTTP/1.1\u001b[0m\" 200 -\n",
      "127.0.0.1 - - [26/Jul/2020 13:43:13] \"\u001b[37mGET /images/001.jpg HTTP/1.1\u001b[0m\" 200 -\n",
      "127.0.0.1 - - [26/Jul/2020 13:43:13] \"\u001b[37mGET /images/005.jpg HTTP/1.1\u001b[0m\" 200 -\n",
      "127.0.0.1 - - [26/Jul/2020 13:43:13] \"\u001b[37mGET /images/003.jpeg HTTP/1.1\u001b[0m\" 200 -\n",
      "127.0.0.1 - - [26/Jul/2020 13:43:13] \"\u001b[37mGET /images/004.png HTTP/1.1\u001b[0m\" 200 -\n",
      "127.0.0.1 - - [26/Jul/2020 13:43:17] \"\u001b[37mGET /images/003.jpeg HTTP/1.1\u001b[0m\" 200 -\n"
     ]
    }
   ],
   "source": [
    "'''\n",
    "\n",
    "執行此句，啟動Server，觀察後，按左上方塊，停用Server\n",
    "\n",
    "'''\n",
    "\n",
    "if __name__ == \"__main__\":\n",
    "    app.run(host='0.0.0.0')"
   ]
  },
  {
   "cell_type": "code",
   "execution_count": null,
   "metadata": {},
   "outputs": [],
   "source": []
  }
 ],
 "metadata": {
  "kernelspec": {
   "display_name": "Python 3",
   "language": "python",
   "name": "python3"
  },
  "language_info": {
   "codemirror_mode": {
    "name": "ipython",
    "version": 3
   },
   "file_extension": ".py",
   "mimetype": "text/x-python",
   "name": "python",
   "nbconvert_exporter": "python",
   "pygments_lexer": "ipython3",
   "version": "3.8.3"
  }
 },
 "nbformat": 4,
 "nbformat_minor": 2
}

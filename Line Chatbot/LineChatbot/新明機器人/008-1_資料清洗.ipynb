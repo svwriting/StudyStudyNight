{
  "nbformat": 4,
  "nbformat_minor": 0,
  "metadata": {
    "colab": {
      "name": "008-2_資料清洗.ipynb",
      "provenance": []
    },
    "kernelspec": {
      "name": "python3",
      "display_name": "Python 3"
    }
  },
  "cells": [
    {
      "cell_type": "markdown",
      "metadata": {
        "id": "gLg-Py74-Wal"
      },
      "source": [
        "先將google drive內的chatbot-event-log.gsheet匯出成為csv\n",
        "\n",
        "檔名必須為chatbot-event-log.csv\n",
        "\n",
        "並上傳回google drive內的頂層資料夾"
      ]
    },
    {
      "cell_type": "code",
      "metadata": {
        "id": "VSBgvfYH93gb"
      },
      "source": [
        "from google.colab import drive\n",
        "drive.mount('/content/drive')"
      ],
      "execution_count": null,
      "outputs": []
    },
    {
      "cell_type": "code",
      "metadata": {
        "id": "U0RkTxD1meLH",
        "outputId": "2c2a5d2a-64fa-4543-f75e-bb4ed2169dc3",
        "colab": {
          "base_uri": "https://localhost:8080/",
          "height": 935
        }
      },
      "source": [
        "'''\n",
        "\n",
        "將紅樓夢資料，做資料清洗。\n",
        "\n",
        "取出用戶的tag\n",
        "\n",
        "'''\n",
        "\n",
        "import csv\n",
        "import json\n",
        "from urllib.parse import parse_qs\n",
        "import pandas as pd\n",
        "\n",
        "user_tag_records=[]\n",
        "\n",
        "user_other_activity=[]\n",
        "\n",
        "with open('drive/My Drive/chatbot-event-log.csv', newline='') as csvfile:\n",
        "     spamreader = csv.reader(csvfile, delimiter=' ', quotechar='\"')\n",
        "     all_tag_set=set()\n",
        "\n",
        "     for row in spamreader:\n",
        "\n",
        "\n",
        "      events = json.loads(row[0]).get('events')\n",
        "      # print(events)\n",
        "      if events[0].get('type') == 'postback':\n",
        "\n",
        "        # 整理tag 表\n",
        "        if 'tag' in events[0].get('postback').get('data'):\n",
        "          # print(events)\n",
        "          postback_data_dict = parse_qs(events[0].get('postback').get('data'))\n",
        "          tag_elements=postback_data_dict.get('tag')[0]\n",
        "          # print(tag_elements)\n",
        "          # print(tag_elements.split('|'))\n",
        "          record_tag_set=set(tag_elements.split('|'))\n",
        "          tag_dict = dict.fromkeys(record_tag_set,1)\n",
        "\n",
        "          print(tag_dict)\n",
        "          \n",
        "          user_info_dict = {'userId':events[0].get('source').get('userId'),'timestamp': events[0].get('timestamp')}\n",
        "          # print(user_info_dict)\n",
        "          \n",
        "          user_info_tag_dict = {**user_info_dict, **tag_dict}\n",
        "          \n",
        "          user_tag_records.append(\n",
        "              user_info_tag_dict\n",
        "              )\n",
        "          # print(user_tag_records)\n",
        "\n",
        "\n",
        "        postback_data_dict = parse_qs(events[0].get('postback').get('data'))\n",
        "        user_info_dict = {'userId':events[0].get('source').get('userId'),'timestamp': events[0].get('timestamp'),'eventType':events[0].get('type'),'postback_data':postback_data_dict}\n",
        "        user_other_activity.append(user_info_dict)\n",
        "\n",
        "      elif events[0].get('type') == 'message':\n",
        "          # 取得event type, userId, timestamp, message text\n",
        "          user_other_activity.append({'userId': events[0].get('source').get('userId'), \n",
        "                                        'timestamp': events[0].get('timestamp'), \n",
        "                                        'event_type': events[0].get('type'), \n",
        "                                        'message_text': events[0].get('message').get('text')}\n",
        "                                        )\n",
        "          \n",
        "      elif events[0].get('type') == 'follow':\n",
        "          # 取得event type, userId, timestamp\n",
        "          user_other_activity.append({'userId': events[0].get('source').get('userId'), \n",
        "                                        'timestamp': events[0].get('timestamp'), \n",
        "                                        'event_type': events[0].get('type')},\n",
        "                                        )\n",
        "      \n",
        "      elif events[0].get('type') == 'unfollow':\n",
        "          # 取得event type, userId, timestamp\n",
        "          user_other_activity.append({'userId': events[0].get('source').get('userId'), \n",
        "                                        'timestamp': events[0].get('timestamp'), \n",
        "                                        'event_type': events[0].get('type')},\n",
        "                                        )\n",
        "\n",
        "\n",
        "df = pd.DataFrame(user_tag_records)\n",
        "print(df)\n",
        "df.to_csv('user_tag_records.csv', header=True, index=False)\n",
        "\n",
        "df2 = pd.DataFrame(user_other_activity)\n",
        "print(df2)\n",
        "df2.to_csv('user_other_activity.csv', header=True, index=False)"
      ],
      "execution_count": 60,
      "outputs": [
        {
          "output_type": "stream",
          "text": [
            "{'business': 1}\n",
            "{'not_cloud': 1}\n",
            "{'chatbot': 1}\n",
            "{'not_devops': 1}\n",
            "{'ai': 1}\n",
            "{'devops': 1}\n",
            "{'cloud': 1}\n",
            "{'aws': 1, 'offline': 1, 'tutorial': 1, 'blockchain': 1}\n",
            "{'contact': 1, 'aws': 1, 'tutorial': 1, 'blockchain': 1}\n",
            "{'contact': 1, 'aws': 1, 'cloud': 1, 'tutorial': 1}\n",
            "{'contact': 1, 'aws': 1, 'cloud': 1, 'tutorial': 1}\n",
            "                               userId      timestamp  ...  blockchain  contact\n",
            "0   Ud29c5cf085e845db7c6457677116df4d  1603894872681  ...         NaN      NaN\n",
            "1   Ud29c5cf085e845db7c6457677116df4d  1603894877130  ...         NaN      NaN\n",
            "2   Ud29c5cf085e845db7c6457677116df4d  1603894887320  ...         NaN      NaN\n",
            "3   Ud29c5cf085e845db7c6457677116df4d  1603894889960  ...         NaN      NaN\n",
            "4   Ud29c5cf085e845db7c6457677116df4d  1603894892084  ...         NaN      NaN\n",
            "5   Ud29c5cf085e845db7c6457677116df4d  1603894906818  ...         NaN      NaN\n",
            "6   Ud29c5cf085e845db7c6457677116df4d  1603894982894  ...         NaN      NaN\n",
            "7   Ud29c5cf085e845db7c6457677116df4d  1603894989221  ...         1.0      NaN\n",
            "8   Ud29c5cf085e845db7c6457677116df4d  1603894992711  ...         1.0      1.0\n",
            "9   Ud29c5cf085e845db7c6457677116df4d  1603895002551  ...         NaN      1.0\n",
            "10  Ud29c5cf085e845db7c6457677116df4d  1603895013741  ...         NaN      1.0\n",
            "\n",
            "[11 rows x 14 columns]\n",
            "                               userId  ...                                       message_text\n",
            "0   Ud29c5cf085e845db7c6457677116df4d  ...                                                NaN\n",
            "1   Ud29c5cf085e845db7c6457677116df4d  ...                                                NaN\n",
            "2   Ud29c5cf085e845db7c6457677116df4d  ...                                                NaN\n",
            "3   Ud29c5cf085e845db7c6457677116df4d  ...                                            開生面夢演紅樓\n",
            "4   Ud29c5cf085e845db7c6457677116df4d  ...                                                NaN\n",
            "5   Ud29c5cf085e845db7c6457677116df4d  ...                                               收到反饋\n",
            "6   Ud29c5cf085e845db7c6457677116df4d  ...                                                NaN\n",
            "7   Ud29c5cf085e845db7c6457677116df4d  ...                                               收到反饋\n",
            "8   Ud29c5cf085e845db7c6457677116df4d  ...                                                NaN\n",
            "9   Ud29c5cf085e845db7c6457677116df4d  ...                                               收到反饋\n",
            "10  Ud29c5cf085e845db7c6457677116df4d  ...                                                NaN\n",
            "11  Ud29c5cf085e845db7c6457677116df4d  ...                                               收到反饋\n",
            "12  Ud29c5cf085e845db7c6457677116df4d  ...                                                NaN\n",
            "13  Ud29c5cf085e845db7c6457677116df4d  ...                                               風流情種\n",
            "14  Ud29c5cf085e845db7c6457677116df4d  ...                                          產品快速導入的訣竅\n",
            "15  Ud29c5cf085e845db7c6457677116df4d  ...                                                NaN\n",
            "16  Ud29c5cf085e845db7c6457677116df4d  ...                                                NaN\n",
            "17  Ud29c5cf085e845db7c6457677116df4d  ...                                        想知道雲服務的戰略價值\n",
            "18  Ud29c5cf085e845db7c6457677116df4d  ...  https://www.tibame.com/offline/aws-blockchain?...\n",
            "19  Ud29c5cf085e845db7c6457677116df4d  ...                                                NaN\n",
            "20  Ud29c5cf085e845db7c6457677116df4d  ...                                                NaN\n",
            "21  Ud29c5cf085e845db7c6457677116df4d  ...                  點擊旁邊連結 line://ti/p/@gby2522m 進行聯絡\n",
            "22  Ud29c5cf085e845db7c6457677116df4d  ...                                                NaN\n",
            "23  Ud29c5cf085e845db7c6457677116df4d  ...                  點擊旁邊連結 line://ti/p/@gby2522m 進行聯絡\n",
            "24  Ud29c5cf085e845db7c6457677116df4d  ...                                                NaN\n",
            "25  Ud29c5cf085e845db7c6457677116df4d  ...                  點擊旁邊連結 line://ti/p/@gby2522m 進行聯絡\n",
            "\n",
            "[26 rows x 6 columns]\n"
          ],
          "name": "stdout"
        }
      ]
    },
    {
      "cell_type": "code",
      "metadata": {
        "id": "LnqrXCmipH3H"
      },
      "source": [
        ""
      ],
      "execution_count": null,
      "outputs": []
    }
  ]
}
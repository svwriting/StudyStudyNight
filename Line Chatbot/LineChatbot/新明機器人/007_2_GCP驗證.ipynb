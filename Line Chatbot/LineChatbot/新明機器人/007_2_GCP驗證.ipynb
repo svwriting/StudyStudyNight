{
  "nbformat": 4,
  "nbformat_minor": 0,
  "metadata": {
    "colab": {
      "name": "007-2_GCP驗證.ipynb",
      "provenance": []
    },
    "kernelspec": {
      "name": "python3",
      "display_name": "Python 3"
    }
  },
  "cells": [
    {
      "cell_type": "code",
      "metadata": {
        "id": "sfX3sSrtFxSV"
      },
      "source": [
        ""
      ],
      "execution_count": null,
      "outputs": []
    },
    {
      "cell_type": "code",
      "metadata": {
        "id": "Sh6w2Md8FOCC"
      },
      "source": [
        "'''\n",
        "與Google做驗證，取得權限\n",
        "'''\n",
        "\n",
        "# 引用套件\n",
        "from pydrive.auth import GoogleAuth\n",
        "from pydrive.drive import GoogleDrive\n",
        "from google.colab import auth\n",
        "from oauth2client.client import GoogleCredentials\n",
        "\n"
      ],
      "execution_count": null,
      "outputs": []
    },
    {
      "cell_type": "code",
      "metadata": {
        "id": "ZLz-CgMlIOX6",
        "outputId": "00fbb4d0-58c0-4cd9-df98-9766c32ea370",
        "colab": {
          "base_uri": "https://localhost:8080/",
          "height": 139
        }
      },
      "source": [
        "# 驗證準備\n",
        "gauth = GoogleAuth()\n",
        "\n",
        "gauth.CommandLineAuth()\n",
        "\n",
        "gauth.SaveCredentialsFile('mycreds.txt')"
      ],
      "execution_count": null,
      "outputs": [
        {
          "output_type": "stream",
          "text": [
            "Go to the following link in your browser:\n",
            "\n",
            "    https://accounts.google.com/o/oauth2/auth?client_id=570339403105-1lehe0f6rf2abthpmathi5r7bddnqvu7.apps.googleusercontent.com&redirect_uri=urn%3Aietf%3Awg%3Aoauth%3A2.0%3Aoob&scope=https%3A%2F%2Fwww.googleapis.com%2Fauth%2Fdrive&access_type=offline&response_type=code\n",
            "\n",
            "Enter verification code: 4/5AFw-29p-_33d47Wi3YejMsw8NToPSMEhA3W5KTLsvyc2wUDWoehFoI\n",
            "Authentication successful.\n"
          ],
          "name": "stdout"
        }
      ]
    },
    {
      "cell_type": "code",
      "metadata": {
        "id": "PCTvcgTxuWgO"
      },
      "source": [
        ""
      ],
      "execution_count": null,
      "outputs": []
    }
  ]
}